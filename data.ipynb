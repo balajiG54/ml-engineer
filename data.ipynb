{
 "cells": [
  {
   "cell_type": "code",
   "execution_count": 1,
   "metadata": {},
   "outputs": [],
   "source": [
    "import pandas as pd\n",
    "from functions import make_AR_qr_svg_quote,make_qr_svg_quote, make_qr_quote, v_card"
   ]
  },
  {
   "cell_type": "code",
   "execution_count": 2,
   "metadata": {},
   "outputs": [],
   "source": [
    "pd.options.display.max_columns = 100"
   ]
  },
  {
   "cell_type": "code",
   "execution_count": 3,
   "metadata": {},
   "outputs": [],
   "source": [
    "\n",
    "#importing CSV into pandas and setting ID as the index for the dataframe\n",
    "# df = pd.read_csv(\n",
    "#     \"Business Card Request (2).csv\",\n",
    "#     index_col=\"ID\")\n",
    "\n",
    "df = pd.read_csv(\"data_19.csv\",index_col=\"ID\")\n"
   ]
  },
  {
   "cell_type": "code",
   "execution_count": 4,
   "metadata": {},
   "outputs": [],
   "source": [
    "columns_to_drop = [\"Requested By\",\n",
    "\"Shipping Address\",\n",
    "\"Supervisor\",\n",
    "\"Quantity \",\n",
    "\"Quote Amount\",\n",
    "\"Actual Amount\",\n",
    "\"PO Number\",\n",
    "\"Attachments\",\n",
    "\"Supervisor Sign-off status\",\n",
    "\"Procurement Status on PO Number\",\n",
    "\"Shipping Address: Country/Region\",\n",
    "\"Shipping Address: State\",\n",
    "\"Shipping Address: City\",\n",
    "\"Shipping Address: Postal Code\",\n",
    "\"Shipping Address: Street\",\n",
    "\"Shipping Address: Coordinates\",\n",
    "\"Shipping Address: Name\",\n",
    "\"Suite/Apt/P.O. Number\",\n",
    "\"Proof to Review\",\n",
    "\"Modified\", \n",
    "\"Created\", \n",
    "\"Modified By\", \n",
    "\"Notes to Designer\",\n",
    "\"Business Address on Business Card\"]"
   ]
  },
  {
   "cell_type": "code",
   "execution_count": 5,
   "metadata": {},
   "outputs": [],
   "source": [
    "df = df.drop(columns_to_drop,axis=1)"
   ]
  },
  {
   "cell_type": "code",
   "execution_count": 6,
   "metadata": {},
   "outputs": [],
   "source": [
    "# setting all N/A values to 0 to change data type from float to int for both Office and Mobile number\n",
    "df[\"Office Number\"] = df[\"Office Number\"].fillna(0).astype(int)\n",
    "df[\"Mobile Number (optional)\"] = df[\"Mobile Number (optional)\"].fillna(0).astype(int)\n"
   ]
  },
  {
   "cell_type": "code",
   "execution_count": 7,
   "metadata": {},
   "outputs": [],
   "source": [
    "#splitting full name into first and last name\n",
    "for i,r in df.iterrows():\n",
    "    df.loc[i,\"First Name\"] = r[\"Name\"].split()[0]\n",
    "    df.loc[i,\"Last Name\"] = r[\"Name\"].split()[-1]"
   ]
  },
  {
   "cell_type": "code",
   "execution_count": 8,
   "metadata": {},
   "outputs": [],
   "source": [
    "df['Business Address on Business Card: Address'] = df['Business Address on Business Card: Address'].fillna(value=\"\")\n",
    "df['Business Address on Business Card: Address 2'] = df['Business Address on Business Card: Address 2'].fillna(value=\"\")\n",
    "df['Business Address on Business Card: City '] = df['Business Address on Business Card: City '].fillna(value=\"\")\n",
    "df['Business Address on Business Card: State'] = df['Business Address on Business Card: State'].fillna(value=\"\")\n",
    "\n",
    "df[\"Preferred Last Name\"] = df[\"Preferred Last Name\"].fillna(value=\"\")\n",
    "df[\"Preferred First Name\"] = df[\"Preferred First Name\"].fillna(value=\"\")\n",
    "\n"
   ]
  },
  {
   "cell_type": "code",
   "execution_count": 9,
   "metadata": {},
   "outputs": [],
   "source": [
    "path = \"Users:elisantibanez:Documents:new_businesscards:qr_images:\"\n"
   ]
  },
  {
   "cell_type": "code",
   "execution_count": 10,
   "metadata": {},
   "outputs": [],
   "source": [
    "#making QR Codes. Setting an if statement depending on preferred name or not. \n",
    "for i,r in df.iterrows():\n",
    "\n",
    "    # print([type(r['Business Address on Business Card: Address 2']), type(r['Business Address on Business Card: City ']), type(r['Business Address on Business Card: State'])])\n",
    "    \n",
    "    if r[\"Office Number\"] and r[\"Mobile Number (optional)\"] != 0: \n",
    "\n",
    "        #both numbers and has a preferred name\n",
    "        if r[\"Do you have a preferred name?\"] == \"Yes\":\n",
    "            v_card(\n",
    "                company= r[\"GetixHealth or ARstrat \"],\n",
    "                first_name = r[\"Preferred First Name\"],\n",
    "                last_name = r[\"Preferred Last Name\"],\n",
    "                title = r[\"Title\"],\n",
    "                email = r[\"Email\"],\n",
    "                office_number = r[\"Office Number\"],\n",
    "                mobile_number = r[\"Mobile Number (optional)\"],\n",
    "                address = r['Business Address on Business Card: Address'] + \", \" + r['Business Address on Business Card: Address 2'] + \" \" + r['Business Address on Business Card: City '] + \" \" +  r['Business Address on Business Card: State'],\n",
    "                zip_code = r['Business Address on Business Card: ZIP'])\n",
    "                \n",
    "            df.loc[i,\"#image\"] = path + r[\"Preferred First Name\"] + \" \" + r[\"Preferred Last Name\"] + \".svg\"\n",
    "\n",
    "        #both numbers and has NO preferred name\n",
    "        else:\n",
    "            v_card(\n",
    "                company= r[\"GetixHealth or ARstrat \"],\n",
    "                first_name = r[\"First Name\"],\n",
    "                last_name = r[\"Last Name\"],\n",
    "                title = r[\"Title\"],\n",
    "                email = r[\"Email\"],\n",
    "                office_number = r[\"Office Number\"],\n",
    "                mobile_number = r[\"Mobile Number (optional)\"],\n",
    "                address = r['Business Address on Business Card: Address'] + \", \" + r['Business Address on Business Card: Address 2'] + \" \" + r['Business Address on Business Card: City '] + \" \" +  r['Business Address on Business Card: State'],\n",
    "                zip_code = r['Business Address on Business Card: ZIP'])  \n",
    "            \n",
    "            df.loc[i,\"#image\"] = path + r[\"First Name\"] + \" \" + r[\"Last Name\"] + \".svg\"\n",
    " \n",
    "                    \n",
    "    if r[\"Office Number\"] == 0 and r[\"Mobile Number (optional)\"] != 0:\n",
    "        #Only Mobile number and has a preferred name\n",
    "        if r[\"Do you have a preferred name?\"] == \"Yes\":\n",
    "            v_card(\n",
    "                company= r[\"GetixHealth or ARstrat \"],\n",
    "                first_name = r[\"Preferred First Name\"],\n",
    "                last_name = r[\"Preferred Last Name\"],\n",
    "                title = r[\"Title\"],\n",
    "                email = r[\"Email\"],\n",
    "                mobile_number = r[\"Mobile Number (optional)\"],\n",
    "                address = r['Business Address on Business Card: Address'] + \", \" + r['Business Address on Business Card: Address 2'] + \" \" + r['Business Address on Business Card: City '] + \" \" +  r['Business Address on Business Card: State'],\n",
    "                zip_code = r['Business Address on Business Card: ZIP']) \n",
    "            df.loc[i,\"#image\"] = path + r[\"Preferred First Name\"] + \" \" + r[\"Preferred Last Name\"] + \".svg\"\n",
    "   \n",
    "\n",
    "        else:\n",
    "            #Only Mobile numbers and has NO preferred name\n",
    "            v_card(\n",
    "                company= r[\"GetixHealth or ARstrat \"],\n",
    "                first_name = r[\"First Name\"],\n",
    "                last_name = r[\"Last Name\"],\n",
    "                title = r[\"Title\"],\n",
    "                email = r[\"Email\"],\n",
    "                mobile_number = r[\"Mobile Number (optional)\"],\n",
    "                address = r['Business Address on Business Card: Address'] + \", \" + r['Business Address on Business Card: Address 2'] + \" \" + r['Business Address on Business Card: City '] + \" \" +  r['Business Address on Business Card: State'],\n",
    "                zip_code = r['Business Address on Business Card: ZIP'])\n",
    "            \n",
    "            df.loc[i,\"#image\"] = path + r[\"First Name\"] + \" \" + r[\"Last Name\"] + \".svg\"\n",
    "\n",
    "                 \n",
    "\n",
    "    if r[\"Office Number\"] != 0 and r[\"Mobile Number (optional)\"] == 0:\n",
    "        #Only Office number and has a preferred name\n",
    "        if r[\"Do you have a preferred name?\"] == \"Yes\":\n",
    "            v_card(\n",
    "                company= r[\"GetixHealth or ARstrat \"],\n",
    "                first_name = r[\"Preferred First Name\"],\n",
    "                last_name = r[\"Preferred Last Name\"],\n",
    "                title = r[\"Title\"],\n",
    "                email = r[\"Email\"],\n",
    "                office_number = r[\"Office Number\"],\n",
    "                address = r['Business Address on Business Card: Address'] + \", \" + r['Business Address on Business Card: Address 2'] + \" \" + r['Business Address on Business Card: City '] + \" \" +  r['Business Address on Business Card: State'],\n",
    "                zip_code = r['Business Address on Business Card: ZIP'])\n",
    "            \n",
    "            df.loc[i,\"#image\"] = path + r[\"Preferred First Name\"] + \" \" + r[\"Preferred Last Name\"] + \".svg\"\n",
    "\n",
    "                \n",
    "        #Only Office number and has No preferred name\n",
    "        else:\n",
    "            v_card(\n",
    "                company= r[\"GetixHealth or ARstrat \"],\n",
    "                first_name = r[\"First Name\"],\n",
    "                last_name = r[\"Last Name\"],\n",
    "                title = r[\"Title\"],\n",
    "                email = r[\"Email\"],\n",
    "                office_number = r[\"Office Number\"],\n",
    "                address = r['Business Address on Business Card: Address'] + \", \" + r['Business Address on Business Card: Address 2'] + \" \" + r['Business Address on Business Card: City '] + \" \" +  r['Business Address on Business Card: State'],\n",
    "                zip_code = r['Business Address on Business Card: ZIP']) \n",
    "            \n",
    "            df.loc[i,\"#image\"] = path + r[\"First Name\"] + \" \" + r[\"Last Name\"] + \".svg\"\n",
    "\n"
   ]
  },
  {
   "cell_type": "code",
   "execution_count": 11,
   "metadata": {},
   "outputs": [],
   "source": [
    "columns_to_rename = {\"Business Address on Business Card: Address\": \"Address\",\t\n",
    "\"Business Address on Business Card: City\": \"City\",\t\n",
    "\"Business Address on Business Card: State\": \"State\",\t\n",
    "\"Business Address on Business Card: ZIP\": \"ZIP\",\t\n",
    "\"Business Address on Business Card: Country\": \"Country\",\t\n",
    "\"Business Address on Business Card: Address 2\": \"Address 2\",\n",
    "\"#image\":\"@image\"}\n",
    "\n",
    "df = df.rename(columns=columns_to_rename)"
   ]
  },
  {
   "cell_type": "code",
   "execution_count": 12,
   "metadata": {},
   "outputs": [],
   "source": [
    "numbers = [\"Mobile Number (optional)\" ,\"Office Number\"]"
   ]
  },
  {
   "cell_type": "code",
   "execution_count": 13,
   "metadata": {},
   "outputs": [],
   "source": [
    "df[numbers] = df[numbers].astype(str)"
   ]
  },
  {
   "cell_type": "code",
   "execution_count": 14,
   "metadata": {},
   "outputs": [],
   "source": [
    "#setting the periods on the phone numbers\n",
    "for c in df[numbers]:\n",
    "    df[c] = df[c].str[:3] + '.' + df[c].str[3:6] + '.' + df[c].str[6:]\n"
   ]
  },
  {
   "cell_type": "code",
   "execution_count": 15,
   "metadata": {},
   "outputs": [],
   "source": [
    "df.to_csv(\"./result/datacsv/data_14_follow_up.csv\")"
   ]
  },
  {
   "cell_type": "code",
   "execution_count": 16,
   "metadata": {},
   "outputs": [
    {
     "data": {
      "text/plain": [
       "'c:\\\\Users\\\\balat\\\\PycharmProjects\\\\test\\\\test5.zip'"
      ]
     },
     "execution_count": 16,
     "metadata": {},
     "output_type": "execute_result"
    }
   ],
   "source": [
    "df\n",
    "# import shutil\n",
    "# shutil.make_archive(\"test5\", 'zip', \"./result/\")"
   ]
  },
  {
   "cell_type": "code",
   "execution_count": null,
   "metadata": {},
   "outputs": [],
   "source": []
  }
 ],
 "metadata": {
  "kernelspec": {
   "display_name": "Python 3.9.6 64-bit",
   "language": "python",
   "name": "python3"
  },
  "language_info": {
   "codemirror_mode": {
    "name": "ipython",
    "version": 3
   },
   "file_extension": ".py",
   "mimetype": "text/x-python",
   "name": "python",
   "nbconvert_exporter": "python",
   "pygments_lexer": "ipython3",
   "version": "3.9.6"
  },
  "orig_nbformat": 4,
  "vscode": {
   "interpreter": {
    "hash": "81794d4967e6c3204c66dcd87b604927b115b27c00565d3d43f05ba2f3a2cb0d"
   }
  }
 },
 "nbformat": 4,
 "nbformat_minor": 2
}
